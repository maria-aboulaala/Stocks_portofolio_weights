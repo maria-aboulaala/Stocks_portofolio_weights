{
 "cells": [
  {
   "cell_type": "markdown",
   "metadata": {},
   "source": [
    "# Optimisation de la composition d'un portefeuille de stocks\n",
    "\n",
    "\n",
    "<p align=\"center\">Réalisé par Maria Aboulaala</p>"
   ]
  },
  {
   "cell_type": "markdown",
   "metadata": {},
   "source": [
    "### Introduction:\n",
    "\n",
    "\n",
    "Ce projet se décompose en différentes sections, chacune reposant sur les précédentes. Dans la première section, l'accent sera mis sur la collecte des données nécessaires à l'analyse. Ces données sont relativement simples, il s'agit des prix de clôture d'un petit portefeuille d'actions.\n",
    "\n",
    "Après avoir traité la collecte des données, la prochaine étape consistera à préparer ces données pour le calcul de plusieurs métriques cruciales en vue d'obtenir des résultats optimaux dans notre portefeuille. Parmi les métriques à calculer, on retrouvera les rendements attendus, la volatilité attendue, et le ratio de Sharpe. Une fois ces métriques définies, nous entrerons dans le processus de création d'une simulation qui générera aléatoirement des résultats que nous pourrons exploiter pour déterminer les meilleurs résultats pour une grande variété de portefeuilles.\n",
    "\n",
    "Les résultats de cette simulation seront utilisés pour créer des graphiques à l'aide de `matplotlib`, et nous utiliserons la bibliothèque `scipy` pour exécuter un algorithme d'optimisation afin de déterminer les pondérations optimales pour notre simulation."
   ]
  },
  {
   "cell_type": "code",
   "execution_count": 19,
   "metadata": {},
   "outputs": [],
   "source": [
    "import numpy as np\n",
    "import pandas as pd\n",
    "import matplotlib.pyplot as plt\n",
    "import scipy.optimize as sci_opt\n",
    "from pprint import pprint\n",
    "from sklearn.preprocessing import StandardScaler"
   ]
  },
  {
   "cell_type": "markdown",
   "metadata": {},
   "source": [
    "Je choisi ['AAPL', 'MSFT', 'SQ'] comme actifs pour mon portefeuille."
   ]
  },
  {
   "cell_type": "code",
   "execution_count": 20,
   "metadata": {
    "tags": []
   },
   "outputs": [
    {
     "name": "stdout",
     "output_type": "stream",
     "text": [
      "         date   close    volume    open      high     low symbol\n",
      "0  2020-07-23  122.93  11010220  127.74  129.8494  121.32     SQ\n",
      "1  2020-07-22  129.18   8437494  127.49  131.7100  127.06     SQ\n",
      "2  2020-07-21  126.99  10787520  129.95  130.8000  125.07     SQ\n",
      "3  2020-07-20  128.39  12423990  121.26  129.4600  120.53     SQ\n",
      "4  2020-07-17  120.73   6968161  120.98  122.3800  118.59     SQ\n"
     ]
    }
   ],
   "source": [
    "symbols = ['AAPL', 'MSFT', 'SQ']\n",
    "number_of_symbols = len(symbols)\n",
    "price_data_frame: pd.DataFrame = pd.read_csv('stock_data.csv')\n",
    "print(price_data_frame.head())\n"
   ]
  },
  {
   "cell_type": "markdown",
   "metadata": {},
   "source": [
    "Les données sont assez proches de ce dont nous avons besoin, mais elles nécessitent encore un peu de mise en forme avant de passer aux étapes suivantes. Nous pouvons utiliser la méthode `pivot` pour réorganiser les données afin d'obtenir une seule colonne pour chaque symbole, où chaque colonne contient le prix de clôture. En ayant les données de cette manière, nous pouvons ensuite calculer les rendements pour chaque jour."
   ]
  },
  {
   "cell_type": "code",
   "execution_count": 21,
   "metadata": {
    "tags": []
   },
   "outputs": [
    {
     "name": "stdout",
     "output_type": "stream",
     "text": [
      "symbol        AAPL    MSFT     SQ\n",
      "date                             \n",
      "2020-01-24  318.31  165.04  71.14\n",
      "2020-01-27  308.95  162.28  71.05\n",
      "2020-01-28  317.69  165.46  74.80\n",
      "2020-01-29  324.34  168.04  76.16\n",
      "2020-01-30  323.87  172.78  76.10\n"
     ]
    }
   ],
   "source": [
    "price_data_frame = price_data_frame[['date', 'symbol', 'close']]\n",
    "price_data_frame = price_data_frame.pivot(\n",
    "    index='date',\n",
    "    columns='symbol',\n",
    "    values='close'\n",
    ")\n",
    "print(price_data_frame.head())"
   ]
  },
  {
   "cell_type": "markdown",
   "metadata": {},
   "source": [
    "Pour générer les rendements de notre portfefeuille, nous devons prendre un certain **risque**, mais idéalement, nous devrions être à l'aise avec ce risque car nous sommes compensés sous forme de rendements qui augmentent notre investissement.\n",
    "\n",
    "Cependant, la plupart des investisseurs ne sont pas à l'aise avec des niveaux élevés de risque, donc notre objectif est de trouver le meilleur ratio risque/rendement. Idéalement, nous prenons le maximum de risque avec lequel nous nous sentons à l'aise et cherchons à maximiser ces rendements. Cela nous amène naturellement à une question importante : \"Comment mesurons-nous le risque ?\".  Dans notre cas, nous utiliserons le `Sharpe Ratio`. Le Sharpe Ratio est utilisé pour calculer le rendement ajusté en fonction du risque et est la norme de l'industrie pour de tels calculs. Le Sharpe Ratio nous permet de quantifier la relation entre le rendement moyen gagné en excès du taux sans risque par unité de volatilité ou de risque total.\n",
    "\n",
    "Mathématiquement, nous définissons le Sharpe Ratio comme suit :\n",
    "\n",
    "\\begin{equation*}\n",
    "\\text{Sharpe Ratio} = \\frac{(R_p - R_f)}{\\sigma_p}\n",
    "\\end{equation*}\n",
    "\n",
    "Où :\n",
    "\n",
    "$\n",
    "\\begin{align}\n",
    "\\ R_p & = \\text{Rendement du Portefeuille} \\\\\n",
    "\\ R_f & = \\text{Taux Sans Risque} \\\\\n",
    "\\ \\sigma_p & = \\text{Écart Type du Rendement Excédentaire du Portefeuille} \\\\\n",
    "\\end{align}\n",
    "$\n",
    "\n",
    "Pour calculer les rendements attendus, nous utilisons la formule suivante :\n",
    "\n",
    "\\begin{equation*}\n",
    "\\ R_p = (w_{1}r_{1}) + (w_{2}r_{2}) + \\cdots + (w_{n}r_{n})\n",
    "\\end{equation*}\n",
    "\n",
    "Où :\n",
    "\n",
    "$\n",
    "\\begin{align}\n",
    "\\ r_{i} & = \\text{Rendement de la Sécurité i} \\\\\n",
    "\\ w_{i} & = \\text{Poids de la Sécurité i} \\\\\n",
    "\\end{align}\n",
    "$\n",
    "\n",
    "Pour calculer l'écart type du portefeuille, nous utilisons la formule suivante :\n",
    "\n",
    "\\begin{equation*}\n",
    "\\ \\sigma_p = \\sqrt{(w_{i}^2 \\sigma_i^2) + (w_{j}^2 \\sigma_j^2) + (2w_{j}w_{i} p_{i,j} \\sigma_i \\sigma_j)}\n",
    "\\end{equation*}\n",
    "\n",
    "Où :\n",
    "\n",
    "$\n",
    "\\begin{align}\n",
    "\\ \\sigma_{i} & = \\text{Écart Type des Rendements de la Sécurité i} \\\\\n",
    "\\ w_{i} & = \\text{Poids de la Sécurité i} \\\\\n",
    "\\ p_{i,j} & = \\text{Coefficient de Corrélation entre les rendements de l'actif i et de l'actif j} \\\\\n",
    "\\end{align}\n",
    "$"
   ]
  },
  {
   "cell_type": "code",
   "execution_count": 23,
   "metadata": {
    "tags": []
   },
   "outputs": [
    {
     "name": "stdout",
     "output_type": "stream",
     "text": [
      "\n",
      "================================================================================\n",
      " poids de chaque actifs:\n",
      "--------------------------------------------------------------------------------\n",
      "    poids aleatoires   poids aleatoires ajusté\n",
      "0           0.843391                  0.654073\n",
      "1           0.400123                  0.310306\n",
      "2           0.045930                  0.035620\n",
      "--------------------------------------------------------------------------------\n",
      "\n",
      "================================================================================\n",
      "Metrique de portefeuille:\n",
      "--------------------------------------------------------------------------------\n",
      "   rendement attendus  volatilité attendus  Sharpe Ratio\n",
      "0            0.370694             0.537652      0.689469\n",
      "--------------------------------------------------------------------------------\n"
     ]
    }
   ],
   "source": [
    "# Calcule du Log rendement.\n",
    "log_return = np.log(1 + price_data_frame.pct_change())\n",
    "\n",
    "# Generer des poids aleatoires.\n",
    "random_weights = np.array(np.random.random(number_of_symbols))\n",
    "\n",
    "# Poids de chaque actifs pour que la somme soit eguale a 1.\n",
    "rebalance_weights = random_weights / np.sum(random_weights)\n",
    "\n",
    "# Calcule du rendement attendus, (252 jours de trading en moyenne par année).\n",
    "exp_ret = np.sum((log_return.mean() * rebalance_weights) * 252)\n",
    "\n",
    "# Calcule de la volatilité attendus.\n",
    "exp_vol = np.sqrt(\n",
    "np.dot(\n",
    "    rebalance_weights.T,\n",
    "    np.dot(\n",
    "        log_return.cov() * 252,\n",
    "        rebalance_weights\n",
    "    )\n",
    ")\n",
    ")\n",
    "\n",
    "# Calcule du Sharpe Ratio.\n",
    "sharpe_ratio = exp_ret / exp_vol\n",
    "\n",
    "\n",
    "weights_df = pd.DataFrame(data={\n",
    "' poids aleatoires': random_weights,\n",
    "' poids aleatoires ajusté': rebalance_weights\n",
    "})\n",
    "print('')\n",
    "print('='*80)\n",
    "print(' poids de chaque actifs:')\n",
    "print('-'*80)\n",
    "print(weights_df)\n",
    "print('-'*80)\n",
    "\n",
    "\n",
    "metrics_df = pd.DataFrame(data={\n",
    "    'rendement attendus': exp_ret,\n",
    "    'volatilité attendus': exp_vol,\n",
    "    'Sharpe Ratio': sharpe_ratio\n",
    "}, index=[0])\n",
    "\n",
    "print('')\n",
    "print('='*80)\n",
    "print('Metrique de portefeuille:')\n",
    "print('-'*80)\n",
    "print(metrics_df)\n",
    "print('-'*80)"
   ]
  },
  {
   "cell_type": "markdown",
   "metadata": {},
   "source": [
    "# Optimisation de Portefeuille : Simulation de Monte Carlo\n",
    "\n",
    "Nous disposons maintenant d'une méthode pour évaluer la répartition de notre portefeuille. Cela implique de calculer les rendements attendus, la volatilité attendue, puis à partir de là, nous utilisons le Ratio de Sharpe pour quantifier la qualité de la répartition de notre portefeuille du point de vue du risque. La grande question ici est la suivante : \"Si nous savons que nous voulons obtenir un ratio de Sharpe plus élevé, quelle est la répartition de portefeuille nécessaire pour y parvenir ?\"\n",
    "\n",
    "Il y a deux façons d'aborder cette question. Premièrement, nous pourrions tester différentes répartitions aléatoires et voir lesquelles produisent le Ratio de Sharpe le plus élevé. Deuxièmement, nous pourrions utiliser une optimisation mathématique définie par certaines contraintes pour parvenir à la répartition optimale. Dans ce qui suit, nous allons utiliser la méthode \"essayer plusieurs répartitions aléatoires\" qui est la une simulation de Monte Carlo. \n",
    "\n",
    "**Les simulations de Monte Carlo sont utilisées pour modéliser la probabilité de différents résultats dans un processus qui ne peut pas être facilement prédit en raison de l'intervention de variables aléatoires. Il s'agit d'une technique utilisée pour comprendre l'impact du risque et de l'incertitude dans les modèles de prévision.**\n",
    "\n",
    "Nous allons alors exécuter le processus que nous avons décrit ci-dessus à plusieurs reprises et stocker les résultats de chaque exécution. Une fois que nous aurons terminé chaque exécution, nous trouverons les répartitions qui produisent le Ratio de Sharpe le plus élevé et la volatilité la plus faible."
   ]
  },
  {
   "cell_type": "code",
   "execution_count": 24,
   "metadata": {
    "tags": []
   },
   "outputs": [
    {
     "name": "stdout",
     "output_type": "stream",
     "text": [
      "\n",
      "================================================================================\n",
      "RÉSULTAT DES SIMULATIONS:\n",
      "--------------------------------------------------------------------------------\n",
      "   Rendements  Volatilité  Ratio de Sharpe  \\\n",
      "0    0.580506    0.606698         0.956830   \n",
      "1    0.611189    0.613361         0.996459   \n",
      "2    0.405071    0.543874         0.744789   \n",
      "3    0.601751    0.609269         0.987662   \n",
      "4    0.660715    0.637163         1.036964   \n",
      "\n",
      "                        Pondérations du Portefeuille  \n",
      "0  [0.5636865905048443, 0.10992830382683583, 0.32...  \n",
      "1  [0.19338353291853455, 0.4904559112574578, 0.31...  \n",
      "2  [0.5210234506882461, 0.41318154957624176, 0.06...  \n",
      "3  [0.21070168061326064, 0.4842595772904483, 0.30...  \n",
      "4  [0.21790339871082737, 0.3905276549897461, 0.39...  \n",
      "--------------------------------------------------------------------------------\n"
     ]
    }
   ],
   "source": [
    "# Initialisation des composants pour exécuter une simulation de Monte Carlo.\n",
    "\n",
    "# Nous allons effectuer 5000 itérations.\n",
    "num_of_portfolios = 5000\n",
    "\n",
    "# Préparer un tableau pour stocker les pondérations au fur et à mesure de leur génération, soit 5000 itérations pour chacun de nos 4 symboles.\n",
    "all_weights = np.zeros((num_of_portfolios, number_of_symbols))\n",
    "\n",
    "# Préparer un tableau pour stocker les rendements au fur et à mesure de leur génération, soit 5000 valeurs de rendement possibles.\n",
    "ret_arr = np.zeros(num_of_portfolios)\n",
    "\n",
    "# Préparer un tableau pour stocker les volatilités au fur et à mesure de leur génération, soit 5000 valeurs de volatilité possibles.\n",
    "vol_arr = np.zeros(num_of_portfolios)\n",
    "\n",
    "# Préparer un tableau pour stocker les ratios de Sharpe au fur et à mesure de leur génération, soit 5000 ratios de Sharpe possibles.\n",
    "sharpe_arr = np.zeros(num_of_portfolios)\n",
    "\n",
    "# Début des simulations.\n",
    "for ind in range(num_of_portfolios):\n",
    "\n",
    "    weights = np.array(np.random.random(number_of_symbols))\n",
    "    weights = weights / np.sum(weights)\n",
    "\n",
    "    all_weights[ind, :] = weights\n",
    "\n",
    "    ret_arr[ind] = np.sum((log_return.mean() * weights) * 252)\n",
    "\n",
    "    vol_arr[ind] = np.sqrt(\n",
    "        np.dot(weights.T, np.dot(log_return.cov() * 252, weights))\n",
    "    )\n",
    "\n",
    "    sharpe_arr[ind] = ret_arr[ind]/vol_arr[ind]\n",
    "\n",
    "simulations_data = [ret_arr, vol_arr, sharpe_arr, all_weights]\n",
    "\n",
    "simulations_df = pd.DataFrame(data=simulations_data).T\n",
    "\n",
    "\n",
    "simulations_df.columns = [\n",
    "    'Rendements',\n",
    "    'Volatilité',\n",
    "    'Ratio de Sharpe',\n",
    "    'Pondérations du Portefeuille'\n",
    "]\n",
    "\n",
    "simulations_df = simulations_df.infer_objects()\n",
    "\n",
    "# Print out the results.\n",
    "print('')\n",
    "print('='*80)\n",
    "print('RÉSULTAT DES SIMULATIONS:')\n",
    "print('-'*80)\n",
    "print(simulations_df.head())\n",
    "print('-'*80)"
   ]
  },
  {
   "cell_type": "markdown",
   "metadata": {},
   "source": [
    "# Obtenir les Principaux Indicateurs\n",
    "\n",
    "Maintenant que nous avons effectué notre simulation, examinons quelques indicateurs intéressants. Le premier, est le `max_sharpe_ratio`, c'est le Ratio de Sharpe où le rendement excédentaire du portefeuille est le plus élevé compte tenu du niveau de risque que nous prenons. En d'autres termes, ces portefeuilles sont les \"meilleurs\" car ils offrent les rendements ajustés en fonction du risque les plus élevés. Le prochain indicateur est le `min_volatility`, ce sont les pondérations pour lesquelles la volatilité globale du portefeuille est la plus basse. En d'autres termes, si vous souhaitez prendre le moins de risque possible, ce sont les pondérations que vous souhaiteriez avoir.\n"
   ]
  },
  {
   "cell_type": "code",
   "execution_count": 26,
   "metadata": {
    "tags": []
   },
   "outputs": [
    {
     "name": "stdout",
     "output_type": "stream",
     "text": [
      "\n",
      "================================================================================\n",
      "Maximum Ratio de Sharpe:\n",
      "--------------------------------------------------------------------------------\n",
      "Rendements                                                               1.091693\n",
      "Volatilité                                                               0.908427\n",
      "Ratio de Sharpe                                                           1.20174\n",
      "Pondérations du Portefeuille    [0.0032738102558762237, 0.012171052869200647, ...\n",
      "Name: 3439, dtype: object\n",
      "--------------------------------------------------------------------------------\n",
      "\n",
      "================================================================================\n",
      "Minimum Volatilité:\n",
      "--------------------------------------------------------------------------------\n",
      "Rendements                                                               0.341429\n",
      "Volatilité                                                               0.533056\n",
      "Ratio de Sharpe                                                          0.640513\n",
      "Pondérations du Portefeuille    [0.7079155567539342, 0.2909303799429097, 0.001...\n",
      "Name: 1194, dtype: object\n",
      "--------------------------------------------------------------------------------\n"
     ]
    }
   ],
   "source": [
    "# Return the Max Sharpe Ratio from the run.\n",
    "max_sharpe_ratio = simulations_df.loc[simulations_df['Ratio de Sharpe'].idxmax()]\n",
    "\n",
    "# Return the Min Volatility from the run.\n",
    "min_volatility = simulations_df.loc[simulations_df['Volatilité'].idxmin()]\n",
    "\n",
    "print('')\n",
    "print('='*80)\n",
    "print('Maximum Ratio de Sharpe:')\n",
    "print('-'*80)\n",
    "print(max_sharpe_ratio)\n",
    "print('-'*80)\n",
    "\n",
    "print('')\n",
    "print('='*80)\n",
    "print('Minimum Volatilité:')\n",
    "print('-'*80)\n",
    "print(min_volatility)\n",
    "print('-'*80)"
   ]
  },
  {
   "cell_type": "markdown",
   "metadata": {},
   "source": [
    "# Tracé des Données :\n",
    "\n",
    "A se stade Il est utile de voir les résultats de notre simulation sous forme de graphique. Nous utiliserons `matplotlib` pour créer un graphique de dispersion qui montre la relation entre la volatilité globale de notre portefeuille et les rendements attendus. Idéalement, ce que nous devrions voir, c'est qu'à mesure que nous prenons plus de risque, nous devrions obtenir des rendements ajustés en fonction du risque plus élevés. On peut dire l'inverse pour la volatilité, moins de volatilité signifie des rendements attendus plus faibles.\n"
   ]
  },
  {
   "cell_type": "code",
   "execution_count": 30,
   "metadata": {
    "tags": []
   },
   "outputs": [
    {
     "name": "stderr",
     "output_type": "stream",
     "text": [
      "C:\\Users\\maria\\AppData\\Local\\Temp\\ipykernel_26080\\1541782405.py:15: FutureWarning: Series.__getitem__ treating keys as positions is deprecated. In a future version, integer keys will always be treated as labels (consistent with DataFrame behavior). To access a value by position, use `ser.iloc[pos]`\n",
      "  max_sharpe_ratio[1],\n",
      "C:\\Users\\maria\\AppData\\Local\\Temp\\ipykernel_26080\\1541782405.py:16: FutureWarning: Series.__getitem__ treating keys as positions is deprecated. In a future version, integer keys will always be treated as labels (consistent with DataFrame behavior). To access a value by position, use `ser.iloc[pos]`\n",
      "  max_sharpe_ratio[0],\n",
      "C:\\Users\\maria\\AppData\\Local\\Temp\\ipykernel_26080\\1541782405.py:24: FutureWarning: Series.__getitem__ treating keys as positions is deprecated. In a future version, integer keys will always be treated as labels (consistent with DataFrame behavior). To access a value by position, use `ser.iloc[pos]`\n",
      "  min_volatility[1],\n",
      "C:\\Users\\maria\\AppData\\Local\\Temp\\ipykernel_26080\\1541782405.py:25: FutureWarning: Series.__getitem__ treating keys as positions is deprecated. In a future version, integer keys will always be treated as labels (consistent with DataFrame behavior). To access a value by position, use `ser.iloc[pos]`\n",
      "  min_volatility[0],\n"
     ]
    },
    {
     "data": {
      "image/png": "[encoded data removed]",
      "text/plain": [
       "<Figure size 640x480 with 2 Axes>"
      ]
     },
     "metadata": {},
     "output_type": "display_data"
    }
   ],
   "source": [
    "plt.scatter(\n",
    "    y=simulations_df['Rendements'],\n",
    "    x=simulations_df['Volatilité'],\n",
    "    c=simulations_df['Ratio de Sharpe'],\n",
    "    cmap='RdYlBu'\n",
    ")\n",
    "\n",
    "plt.title('Rendements du Portefeuille par Rapport au Risque')\n",
    "plt.colorbar(label='Sharpe Ratio')\n",
    "plt.xlabel('Écart Type des Rendements')\n",
    "plt.ylabel('Rendements')\n",
    "\n",
    "# Max Sharpe Ratio = `Etoile rouge`.\n",
    "plt.scatter(\n",
    "    max_sharpe_ratio[1],\n",
    "    max_sharpe_ratio[0],\n",
    "    marker=(5, 1, 0),\n",
    "    color='r',\n",
    "    s=600\n",
    ")\n",
    "\n",
    "# Min Volatilité = `Etoile bleu`.\n",
    "plt.scatter(\n",
    "    min_volatility[1],\n",
    "    min_volatility[0],\n",
    "    marker=(5, 1, 0),\n",
    "    color='b',\n",
    "    s=600\n",
    ")\n",
    "\n",
    "plt.show()"
   ]
  },
  {
   "cell_type": "markdown",
   "metadata": {},
   "source": [
    "# Optimisation\n",
    "\n",
    "La première methode de determination des ponderations optimal consistait à utiliser la simulation de Monte Carlo qui essaierait des milliers de valeurs aléatoires et trouverait les meilleures valeurs. L'inconvénient de l'utilisation de la simulation de Monte Carlo est que ce n'est pas la manière la plus efficace de trouver les valeurs optimales. Au lieu de cela, nous pouvons utiliser des techniques mathématiques pour arriver facilement aux valeurs optimales.\n",
    "\n",
    "Pour aider à exécuter cette nouvelle méthode d'optimisation, nous devrons définir quelques fonctions supplémentaires que nous utiliserons dans notre méthode. La première fonction est la fonction `get_metrics()`, qui renverra les métriques pour un ensemble de pondérations données. La deuxième fonction est la fonction `neg_sharpe`, qui est utilisée comme fonction de minimisation. La fonction de minimisation est utilisée pour trouver les valeurs qui donnent le ratio de Sharpe le plus bas. Dans la fonction d'optimisation de Scipy, il n'y a pas de fonction de \"maximisation\", donc il faut passer quelque chose qui doit être minimisé.\n",
    "\n",
    "La troisième fonction est la fonction `check_sum`, qui est utilisée comme une contrainte. Ce qu'elle fera, c'est s'assurer que les pondérations qui sont transmises respectent la contrainte selon laquelle nous devons avoir une allocation de portefeuille égale à 100 %, ni plus ni moins."
   ]
  },
  {
   "cell_type": "code",
   "execution_count": 32,
   "metadata": {},
   "outputs": [],
   "source": [
    "def get_metrics(weights: list) -> np.array:\n",
    "\n",
    "    weights = np.array(weights)\n",
    "    ret = np.sum(log_return.mean() * weights) * 252\n",
    "    vol = np.sqrt(\n",
    "        np.dot(weights.T, np.dot(log_return.cov() * 252, weights))\n",
    "    )\n",
    "    sr = ret / vol \n",
    "\n",
    "    return np.array([ret, vol, sr])\n",
    "\n",
    "# --------------------------------------------------\n",
    "\n",
    "def grab_negative_sharpe(weights: list) -> np.array:\n",
    "\n",
    "    return get_metrics(weights)[2] - 1\n",
    "\n",
    "# --------------------------------------------------\n",
    "\n",
    "def grab_volatility(weights: list) -> np.array:\n",
    "\n",
    "    return get_metrics(weights)[1]\n",
    "\n",
    "# --------------------------------------------------\n",
    "\n",
    "def check_sum(weights: list) -> float:\n",
    "\n",
    "    return np.sum(weights) - 1"
   ]
  },
  {
   "cell_type": "markdown",
   "metadata": {},
   "source": [
    "Avec nos fonctions désormais définies, exécutons l'optimisation en utilisant le module `scipy.optimize`. Ce module contient une fonction appelée `minimize` que nous pouvons utiliser pour obtenir nos valeurs optimales. Cependant, nous devons effectuer quelques étapes avant de l'exécuter. Tout d'abord, nous devons définir des bornes, ce qui indique à la fonction `minimize` que chacune de nos positions ne peut représenter qu'entre 0 % et 100 % de l'allocation. Deuxièmement, nous devons définir la contrainte qui sera une fonction (`fun`) qui garantit que nous avons une allocation de portefeuille égale à 100 % (nous utilisons tout le \"capital\" disponible). Troisièmement, nous devons définir notre estimation initiale des pondérations. L'estimation initiale peut être n'importe quoi, mais dans ce cas, commençons par simplifier et choisissons un portefeuille également réparti. Dans ce cas, nous avons 4 symboles, de sorte que chaque symbole représentera 25 % du portefeuille.\n",
    "\n",
    "Une fois que nous avons défini ces étapes, nous pouvons exécuter l'optimisation en passant les arguments définis et en définissant la méthode comme `SLSQP`, ce qui signifie \"Sequential Least Squares Programming\" (programmation séquentielle des moindres carrés). Une fois que nous avons exécuté la méthode `minimize`, nous pouvons obtenir les résultats.\n",
    "\n",
    "Le premier résultat est le résultat de notre opération de minimisation. À l'intérieur des résultats, vous verrez le ratio de Sharpe optimisé défini par la valeur `fun`. Nous pouvons ensuite prendre les `pondérations optimisées` définies par les valeurs `optimized_sharpe.x`, et les utiliser pour obtenir les différentes métriques de notre portefeuille."
   ]
  },
  {
   "cell_type": "code",
   "execution_count": 33,
   "metadata": {
    "tags": []
   },
   "outputs": [
    {
     "name": "stdout",
     "output_type": "stream",
     "text": [
      "\n",
      "================================================================================\n",
      "RATIO DE SHARPE OPTIMISE:\n",
      "--------------------------------------------------------------------------------\n",
      " message: Optimization terminated successfully\n",
      " success: True\n",
      "  status: 0\n",
      "     fun: -0.41952441797981443\n",
      "       x: [ 1.000e+00  0.000e+00  2.359e-15]\n",
      "     nit: 4\n",
      "     jac: [-7.451e-09  2.132e-01  1.381e+00]\n",
      "    nfev: 16\n",
      "    njev: 4\n",
      "--------------------------------------------------------------------------------\n"
     ]
    }
   ],
   "source": [
    "bounds = tuple((0, 1) for symbol in range(number_of_symbols))\n",
    "constraints = ({'type': 'eq', 'fun': check_sum})\n",
    "init_guess = number_of_symbols * [1 / number_of_symbols]\n",
    "\n",
    "optimized_sharpe = sci_opt.minimize(\n",
    "    grab_negative_sharpe, # minimiser\n",
    "    init_guess, # commence avec ses valeurs.\n",
    "    method='SLSQP',\n",
    "    bounds=bounds, # ne depasse pas ces bornes.\n",
    "    constraints=constraints\n",
    ")\n",
    "\n",
    "print('')\n",
    "print('='*80)\n",
    "print('RATIO DE SHARPE OPTIMISE:')\n",
    "print('-'*80)\n",
    "print(optimized_sharpe)\n",
    "print('-'*80)"
   ]
  },
  {
   "cell_type": "code",
   "execution_count": 34,
   "metadata": {
    "tags": []
   },
   "outputs": [
    {
     "name": "stdout",
     "output_type": "stream",
     "text": [
      "\n",
      "================================================================================\n",
      "PENDERATION OPTIMISE:\n",
      "--------------------------------------------------------------------------------\n",
      "[1.00000000e+00 0.00000000e+00 2.35922393e-15]\n",
      "--------------------------------------------------------------------------------\n",
      "\n",
      "================================================================================\n",
      "METRIQUES OPTIMISER:\n",
      "--------------------------------------------------------------------------------\n",
      "[0.31086729 0.53553897 0.58047558]\n",
      "--------------------------------------------------------------------------------\n"
     ]
    }
   ],
   "source": [
    "optimized_metrics = get_metrics(weights=optimized_sharpe.x)\n",
    "\n",
    "print('')\n",
    "print('='*80)\n",
    "print('PENDERATION OPTIMISE:')\n",
    "print('-'*80)\n",
    "print(optimized_sharpe.x)\n",
    "print('-'*80)\n",
    "\n",
    "\n",
    "# Print the Optimized Metrics.\n",
    "print('')\n",
    "print('='*80)\n",
    "print('METRIQUES OPTIMISER:')\n",
    "print('-'*80)\n",
    "print(optimized_metrics)\n",
    "print('-'*80)"
   ]
  },
  {
   "cell_type": "code",
   "execution_count": 35,
   "metadata": {
    "tags": []
   },
   "outputs": [
    {
     "name": "stdout",
     "output_type": "stream",
     "text": [
      "\n",
      "================================================================================\n",
      "VOLATILITE OPTIMISE::\n",
      "--------------------------------------------------------------------------------\n",
      " message: Optimization terminated successfully\n",
      " success: True\n",
      "  status: 0\n",
      "     fun: 0.5328609543036874\n",
      "       x: [ 7.485e-01  2.515e-01  4.337e-19]\n",
      "     nit: 6\n",
      "     jac: [ 5.329e-01  5.328e-01  6.439e-01]\n",
      "    nfev: 24\n",
      "    njev: 6\n",
      "--------------------------------------------------------------------------------\n"
     ]
    }
   ],
   "source": [
    "bounds = tuple((0, 1) for symbol in range(number_of_symbols))\n",
    "\n",
    "constraints = ({'type': 'eq', 'fun': check_sum})\n",
    "\n",
    "init_guess = number_of_symbols * [1 / number_of_symbols]\n",
    "\n",
    "optimized_volatility = sci_opt.minimize(\n",
    "    grab_volatility, \n",
    "    init_guess, \n",
    "    method='SLSQP',\n",
    "    bounds=bounds, \n",
    "    constraints=constraints \n",
    ")\n",
    "\n",
    "print('')\n",
    "print('='*80)\n",
    "print('VOLATILITE OPTIMISE::')\n",
    "print('-'*80)\n",
    "print(optimized_volatility)\n",
    "print('-'*80)"
   ]
  },
  {
   "cell_type": "code",
   "execution_count": 36,
   "metadata": {
    "tags": []
   },
   "outputs": [
    {
     "name": "stdout",
     "output_type": "stream",
     "text": [
      "\n",
      "================================================================================\n",
      "PONDERATION OPTIMISE:\n",
      "--------------------------------------------------------------------------------\n",
      "[7.48507668e-01 2.51492332e-01 4.33680869e-19]\n",
      "--------------------------------------------------------------------------------\n",
      "\n",
      "================================================================================\n",
      "METRIQUES OPTIMISER:\n",
      "--------------------------------------------------------------------------------\n",
      "[0.33649631 0.53286095 0.6314899 ]\n",
      "--------------------------------------------------------------------------------\n"
     ]
    }
   ],
   "source": [
    "\n",
    "optimized_metrics = get_metrics(weights=optimized_volatility.x)\n",
    "\n",
    "print('')\n",
    "print('='*80)\n",
    "print('PONDERATION OPTIMISE:')\n",
    "print('-'*80)\n",
    "print(optimized_volatility.x)\n",
    "print('-'*80)\n",
    "\n",
    "print('')\n",
    "print('='*80)\n",
    "print('METRIQUES OPTIMISER:')\n",
    "print('-'*80)\n",
    "print(optimized_metrics)\n",
    "print('-'*80)"
   ]
  }
 ],
 "metadata": {
  "kernelspec": {
   "display_name": ".venv",
   "language": "python",
   "name": "python3"
  },
  "language_info": {
   "codemirror_mode": {
    "name": "ipython",
    "version": 3
   },
   "file_extension": ".py",
   "mimetype": "text/x-python",
   "name": "python",
   "nbconvert_exporter": "python",
   "pygments_lexer": "ipython3",
   "version": "3.11.6"
  },
  "orig_nbformat": 2
 },
 "nbformat": 4,
 "nbformat_minor": 2
}
